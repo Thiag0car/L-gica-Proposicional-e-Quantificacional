{
 "cells": [
  {
   "cell_type": "code",
   "execution_count": 1,
   "metadata": {},
   "outputs": [],
   "source": [
    "from Main import Criar_base_de_crenca, Validação_informacional_crença, Base_de_crenças, corresponder_frase"
   ]
  },
  {
   "cell_type": "code",
   "execution_count": 4,
   "metadata": {},
   "outputs": [
    {
     "data": {
      "text/plain": [
       "{'base_thiago': [], 'base_teste': [], 'base': []}"
      ]
     },
     "execution_count": 4,
     "metadata": {},
     "output_type": "execute_result"
    }
   ],
   "source": [
    "Criar_base_de_crenca('base')"
   ]
  },
  {
   "cell_type": "code",
   "execution_count": 19,
   "metadata": {},
   "outputs": [
    {
     "data": {
      "text/plain": [
       "'Sua crença não será adicionada na base por ser redundante e não trazer valor informacional'"
      ]
     },
     "execution_count": 19,
     "metadata": {},
     "output_type": "execute_result"
    }
   ],
   "source": [
    "#A frase seguinte é uma contradição: Algum mortal não é mortal\n",
    "#A frase seguinte é uma tautologia: Todo mortal é mortal\n",
    "Validação_informacional_crença('base_thiago')"
   ]
  },
  {
   "cell_type": "code",
   "execution_count": 14,
   "metadata": {},
   "outputs": [
    {
     "data": {
      "text/plain": [
       "['Todo homem é mortal', 'Socrates não é mortal']"
      ]
     },
     "execution_count": 14,
     "metadata": {},
     "output_type": "execute_result"
    }
   ],
   "source": [
    "#Caso queira ver alguma base de crença especifica\n",
    "Base_de_crenças['base_thiago']"
   ]
  },
  {
   "cell_type": "code",
   "execution_count": 29,
   "metadata": {},
   "outputs": [
    {
     "data": {
      "text/plain": [
       "{'base_thiago': ['Todo homem é mortal', 'Socrates não é mortal'],\n",
       " 'base_teste': ['Todos os homens são mortais',\n",
       "  'Socrates é home',\n",
       "  'Socrates é homem'],\n",
       " 'base': []}"
      ]
     },
     "execution_count": 29,
     "metadata": {},
     "output_type": "execute_result"
    }
   ],
   "source": [
    "#Caso queira ver todas as bases de crenças\n",
    "Base_de_crenças"
   ]
  },
  {
   "cell_type": "code",
   "execution_count": 31,
   "metadata": {},
   "outputs": [
    {
     "name": "stdout",
     "output_type": "stream",
     "text": [
      "all x.(homem(x) -> mortal(x))\n"
     ]
    }
   ],
   "source": [
    "#Caso queira testar o tradutor\n",
    "frase = input(\"Digite uma frase: \")\n",
    "resultado = corresponder_frase(frase)\n",
    "print(resultado)  "
   ]
  },
  {
   "cell_type": "code",
   "execution_count": 30,
   "metadata": {},
   "outputs": [],
   "source": [
    "#Espaço para rascunho\n"
   ]
  }
 ],
 "metadata": {
  "kernelspec": {
   "display_name": "Python 3",
   "language": "python",
   "name": "python3"
  },
  "language_info": {
   "codemirror_mode": {
    "name": "ipython",
    "version": 3
   },
   "file_extension": ".py",
   "mimetype": "text/x-python",
   "name": "python",
   "nbconvert_exporter": "python",
   "pygments_lexer": "ipython3",
   "version": "3.11.5"
  },
  "orig_nbformat": 4
 },
 "nbformat": 4,
 "nbformat_minor": 2
}
